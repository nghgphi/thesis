{
 "cells": [
  {
   "cell_type": "code",
   "execution_count": 1,
   "metadata": {},
   "outputs": [],
   "source": [
    "import torch\n",
    "import torch.nn.functional as F"
   ]
  },
  {
   "cell_type": "code",
   "execution_count": 5,
   "metadata": {},
   "outputs": [
    {
     "name": "stdout",
     "output_type": "stream",
     "text": [
      "tensor([[0.4963, 0.7682, 0.0885, 0.1320, 0.3074, 0.6341]])\n",
      "tensor([[0.4901, 0.8964, 0.4556],\n",
      "        [0.6323, 0.3489, 0.4017]])\n"
     ]
    }
   ],
   "source": [
    "torch.manual_seed(0)\n",
    "\n",
    "x = torch.rand(size=(2, 3, 3))\n",
    "y = torch.rand(size=(2, 3, 3))\n",
    "print(x.view(1, -1))\n",
    "print(y)"
   ]
  },
  {
   "cell_type": "code",
   "execution_count": null,
   "metadata": {},
   "outputs": [],
   "source": [
    "x_normalize = F.normalize"
   ]
  }
 ],
 "metadata": {
  "kernelspec": {
   "display_name": "fsdgpm",
   "language": "python",
   "name": "python3"
  },
  "language_info": {
   "codemirror_mode": {
    "name": "ipython",
    "version": 3
   },
   "file_extension": ".py",
   "mimetype": "text/x-python",
   "name": "python",
   "nbconvert_exporter": "python",
   "pygments_lexer": "ipython3",
   "version": "3.9.5"
  },
  "orig_nbformat": 4,
  "vscode": {
   "interpreter": {
    "hash": "b52c6ebac097a31b119fd488efd72f54198d29d70ee4bb424c6bd417984b6d58"
   }
  }
 },
 "nbformat": 4,
 "nbformat_minor": 2
}
