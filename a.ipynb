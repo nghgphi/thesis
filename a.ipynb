{
 "cells": [
  {
   "cell_type": "code",
   "execution_count": 1,
   "metadata": {},
   "outputs": [],
   "source": [
    "import torch\n",
    "import torch.nn.functional as F"
   ]
  },
  {
   "cell_type": "code",
   "execution_count": 6,
   "metadata": {},
   "outputs": [
    {
     "name": "stdout",
     "output_type": "stream",
     "text": [
      "tensor([[0.4963, 0.7682, 0.0885, 0.1320, 0.3074, 0.6341, 0.4901, 0.8964, 0.4556,\n",
      "         0.6323, 0.3489, 0.4017, 0.0223, 0.1689, 0.2939, 0.5185, 0.6977, 0.8000]])\n",
      "tensor([[[0.1610, 0.2823, 0.6816],\n",
      "         [0.9152, 0.3971, 0.8742],\n",
      "         [0.4194, 0.5529, 0.9527]],\n",
      "\n",
      "        [[0.0362, 0.1852, 0.3734],\n",
      "         [0.3051, 0.9320, 0.1759],\n",
      "         [0.2698, 0.1507, 0.0317]]])\n"
     ]
    }
   ],
   "source": [
    "torch.manual_seed(0)\n",
    "\n",
    "x = torch.rand(size=(2, 3, 3))\n",
    "y = torch.rand(size=(2, 3, 3))\n",
    "print(x.view(1, -1))\n",
    "print(y)"
   ]
  },
  {
   "cell_type": "code",
   "execution_count": 7,
   "metadata": {},
   "outputs": [
    {
     "data": {
      "text/plain": [
       "tensor([[0.2264, 0.3505, 0.0404, 0.0602, 0.1403, 0.2893, 0.2236, 0.4090, 0.2079,\n",
       "         0.2885, 0.1592, 0.1833, 0.0102, 0.0770, 0.1341, 0.2366, 0.3183, 0.3650]])"
      ]
     },
     "execution_count": 7,
     "metadata": {},
     "output_type": "execute_result"
    }
   ],
   "source": [
    "x_normalize = F.normalize(x.view(1, -1))\n",
    "x_normalize"
   ]
  }
 ],
 "metadata": {
  "kernelspec": {
   "display_name": "fsdgpm",
   "language": "python",
   "name": "python3"
  },
  "language_info": {
   "codemirror_mode": {
    "name": "ipython",
    "version": 3
   },
   "file_extension": ".py",
   "mimetype": "text/x-python",
   "name": "python",
   "nbconvert_exporter": "python",
   "pygments_lexer": "ipython3",
   "version": "3.9.5"
  },
  "orig_nbformat": 4,
  "vscode": {
   "interpreter": {
    "hash": "b52c6ebac097a31b119fd488efd72f54198d29d70ee4bb424c6bd417984b6d58"
   }
  }
 },
 "nbformat": 4,
 "nbformat_minor": 2
}
